{
 "cells": [
  {
   "cell_type": "markdown",
   "id": "spread-vector",
   "metadata": {},
   "source": [
    "### Alejandra Nieto - Python Specialization - Coursera"
   ]
  },
  {
   "cell_type": "markdown",
   "id": "humanitarian-indication",
   "metadata": {},
   "source": [
    "#### 1. Programming for everybody (Getting started)"
   ]
  },
  {
   "cell_type": "code",
   "execution_count": 6,
   "id": "juvenile-catalog",
   "metadata": {},
   "outputs": [
    {
     "name": "stdout",
     "output_type": "stream",
     "text": [
      "Hello World\n",
      "Hello World\n"
     ]
    }
   ],
   "source": [
    "print('Hello World')\n",
    "print(\"Hello World\")"
   ]
  },
  {
   "cell_type": "code",
   "execution_count": 3,
   "id": "labeled-floor",
   "metadata": {},
   "outputs": [
    {
     "name": "stdin",
     "output_type": "stream",
     "text": [
      "What is your name? Ale\n"
     ]
    },
    {
     "data": {
      "text/plain": [
       "'Ale'"
      ]
     },
     "execution_count": 3,
     "metadata": {},
     "output_type": "execute_result"
    }
   ],
   "source": [
    "input('What is your name?')"
   ]
  },
  {
   "cell_type": "markdown",
   "id": "outstanding-navigation",
   "metadata": {},
   "source": [
    "Expressions"
   ]
  },
  {
   "cell_type": "raw",
   "id": "artistic-merchandise",
   "metadata": {},
   "source": [
    "Reserved words\n",
    "can not be used as variable or identifiers\n",
    "\n",
    "False    class    return   is       finally\n",
    "None     if       for      lambda   continue\n",
    "True     def      from     while    nonlocal\n",
    "and      del      global   not      with\n",
    "as       elif     try      or       yield\n",
    "assert   else     import   pass\n",
    "break    except   in       raise"
   ]
  },
  {
   "cell_type": "markdown",
   "id": "joint-cornell",
   "metadata": {},
   "source": [
    "##### Constants\n",
    "\n",
    "* Fixed values such as numbers, letters, and strings are called 'constant' because their value doesn't change\n",
    "\n",
    "* Numeric constant are as you expect\n",
    "\n",
    "* String constants use single quotes (') or double quotes (\"). As shown in the first cell of the script"
   ]
  },
  {
   "cell_type": "markdown",
   "id": "stainless-contract",
   "metadata": {},
   "source": [
    "##### Variables\n",
    "\n",
    "* A variable is a named place in the memory where a programmer can store data and later retrieve the data using the variable \"name\"\n",
    "\n",
    "* Programmers get to choose the names of the variables\n",
    "\n",
    "* You can change the contents of a variable in a later statement\n",
    "\n",
    "\n",
    "##### Python Variable Name Rules\n",
    "\n",
    "* Must start with a letter or underscore (_)\n",
    "\n",
    "* Must consist of letters, numbers and numberscores\n",
    "\n",
    "* Case sensitive"
   ]
  },
  {
   "cell_type": "code",
   "execution_count": 9,
   "id": "intensive-satin",
   "metadata": {},
   "outputs": [],
   "source": [
    "# Variables\n",
    "\n",
    "message = 'And now for something completely different'\n",
    "n = 17\n",
    "pi = 3.1415926535897931"
   ]
  },
  {
   "cell_type": "markdown",
   "id": "worthy-helicopter",
   "metadata": {},
   "source": [
    "##### Assigment Statements\n",
    "\n",
    "We assign a value to a variable using the assignment statement (=)\n",
    "\n",
    "An assignment statement consists of an expression on the right-hand side and a variable to store the result"
   ]
  },
  {
   "cell_type": "code",
   "execution_count": 8,
   "id": "wound-incentive",
   "metadata": {},
   "outputs": [],
   "source": [
    "# The right side is an expression.\n",
    "# Once the expression is evaluated,\n",
    "# the result is placed in the variable on the left side\n",
    "\n",
    "x = 1\n",
    "x = 2.5 * x * (1 - x)"
   ]
  },
  {
   "cell_type": "raw",
   "id": "gentle-accommodation",
   "metadata": {},
   "source": [
    "Numeric Expressions | Operators\n",
    "\n",
    "+  Addition\n",
    "-  Subtraction\n",
    "*  Multiplication\n",
    "÷  Division\n",
    "** Power\n",
    "%  Remainder"
   ]
  },
  {
   "cell_type": "markdown",
   "id": "hazardous-safety",
   "metadata": {},
   "source": [
    "##### Order of Evaluation\n",
    "\n",
    "Python must know which operator do first, this is called\n",
    "'operator precedence'\n",
    "\n",
    "##### Operator precedence\n",
    "\n",
    "Highest precedence rule to lowest precedence rule:\n",
    "\n",
    "- Parentheses are always respected\n",
    "- Exponentiation\n",
    "- Multiplication, Division and Remainder\n",
    "- Addition and Substraction\n",
    "- Left to Right"
   ]
  },
  {
   "cell_type": "markdown",
   "id": "realistic-survival",
   "metadata": {},
   "source": [
    "##### Types\n",
    "\n",
    "* str   -> string\n",
    "* int   -> integers\n",
    "* float -> floating point numbers"
   ]
  },
  {
   "cell_type": "markdown",
   "id": "august-translator",
   "metadata": {},
   "source": [
    "Converting User Input\n",
    "\n",
    "We want to read a number from the user and must convert it from a string to a number"
   ]
  },
  {
   "cell_type": "code",
   "execution_count": 10,
   "id": "light-heating",
   "metadata": {},
   "outputs": [
    {
     "name": "stdin",
     "output_type": "stream",
     "text": [
      "Europe floor? 2\n"
     ]
    },
    {
     "name": "stdout",
     "output_type": "stream",
     "text": [
      "US floor 3\n"
     ]
    }
   ],
   "source": [
    "# Convert elevator floors\n",
    "inp = input('Europe floor?')\n",
    "usf = int(inp) + 1\n",
    "print('US floor', usf)"
   ]
  },
  {
   "cell_type": "code",
   "execution_count": 11,
   "id": "framed-panama",
   "metadata": {},
   "outputs": [
    {
     "name": "stdin",
     "output_type": "stream",
     "text": [
      "US floor? 1\n"
     ]
    },
    {
     "name": "stdout",
     "output_type": "stream",
     "text": [
      "Europe floor 0\n"
     ]
    }
   ],
   "source": [
    "inp = input('US floor?')\n",
    "euf = int(inp) - 1\n",
    "print('Europe floor', euf)"
   ]
  },
  {
   "cell_type": "code",
   "execution_count": 14,
   "id": "saved-scratch",
   "metadata": {},
   "outputs": [
    {
     "data": {
      "text/plain": [
       "5.0"
      ]
     },
     "execution_count": 14,
     "metadata": {},
     "output_type": "execute_result"
    }
   ],
   "source": [
    "x = 1 + 2 * 3 - 8 / 4\n",
    "x"
   ]
  },
  {
   "cell_type": "markdown",
   "id": "parliamentary-correction",
   "metadata": {},
   "source": [
    "Conditio"
   ]
  },
  {
   "cell_type": "code",
   "execution_count": null,
   "id": "scenic-kennedy",
   "metadata": {},
   "outputs": [],
   "source": []
  },
  {
   "cell_type": "code",
   "execution_count": null,
   "id": "attempted-broad",
   "metadata": {},
   "outputs": [],
   "source": []
  },
  {
   "cell_type": "code",
   "execution_count": null,
   "id": "miniature-palestine",
   "metadata": {},
   "outputs": [],
   "source": []
  },
  {
   "cell_type": "code",
   "execution_count": null,
   "id": "alpha-vacuum",
   "metadata": {},
   "outputs": [],
   "source": []
  }
 ],
 "metadata": {
  "kernelspec": {
   "display_name": "Python 3",
   "language": "python",
   "name": "python3"
  },
  "language_info": {
   "codemirror_mode": {
    "name": "ipython",
    "version": 3
   },
   "file_extension": ".py",
   "mimetype": "text/x-python",
   "name": "python",
   "nbconvert_exporter": "python",
   "pygments_lexer": "ipython3",
   "version": "3.8.5"
  }
 },
 "nbformat": 4,
 "nbformat_minor": 5
}
