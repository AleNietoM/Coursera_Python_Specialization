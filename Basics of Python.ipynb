{
 "cells": [
  {
   "cell_type": "markdown",
   "id": "happy-section",
   "metadata": {},
   "source": [
    "### Alejandra Nieto - Python Specialization - Coursera"
   ]
  },
  {
   "cell_type": "markdown",
   "id": "electoral-floating",
   "metadata": {},
   "source": [
    "#### 1. Programming for everybody (Getting started)"
   ]
  },
  {
   "cell_type": "code",
   "execution_count": 6,
   "id": "first-cameroon",
   "metadata": {},
   "outputs": [
    {
     "name": "stdout",
     "output_type": "stream",
     "text": [
      "Hello World\n",
      "Hello World\n"
     ]
    }
   ],
   "source": [
    "print('Hello World')\n",
    "print(\"Hello World\")"
   ]
  },
  {
   "cell_type": "code",
   "execution_count": 3,
   "id": "collective-journal",
   "metadata": {},
   "outputs": [
    {
     "name": "stdin",
     "output_type": "stream",
     "text": [
      "What is your name? Ale\n"
     ]
    },
    {
     "data": {
      "text/plain": [
       "'Ale'"
      ]
     },
     "execution_count": 3,
     "metadata": {},
     "output_type": "execute_result"
    }
   ],
   "source": [
    "input('What is your name?')"
   ]
  },
  {
   "cell_type": "markdown",
   "id": "unnecessary-silly",
   "metadata": {},
   "source": [
    "Expressions Part 1"
   ]
  },
  {
   "cell_type": "raw",
   "id": "premier-charter",
   "metadata": {},
   "source": [
    "Reserved words\n",
    "can not be used as variable or identifiers\n",
    "\n",
    "False    class    return   is       finally\n",
    "None     if       for      lambda   continue\n",
    "True     def      from     while    nonlocal\n",
    "and      del      global   not      with\n",
    "as       elif     try      or       yield\n",
    "assert   else     import   pass\n",
    "break    except   in       raise"
   ]
  },
  {
   "cell_type": "markdown",
   "id": "broad-ghost",
   "metadata": {},
   "source": [
    "##### Constants\n",
    "\n",
    "* Fixed values such as numbers, letters, and strings are called 'constant' because their value doesn't change\n",
    "\n",
    "* Numeric constant are as you expect\n",
    "\n",
    "* String constants use single quotes (') or double quotes (\"). As shown in the first cell of the script"
   ]
  },
  {
   "cell_type": "markdown",
   "id": "automated-ground",
   "metadata": {},
   "source": [
    "##### Variables\n",
    "\n",
    "* A variable is a named place in the memory where a programmer can store data and later retrieve the data using the variable \"name\"\n",
    "\n",
    "* Programmers get to choose the names of the variables\n",
    "\n",
    "* You can change the contents of a variable in a later statement\n",
    "\n",
    "\n",
    "##### Python Variable Name Rules\n",
    "\n",
    "* Must start with a letter or underscore (_)\n",
    "\n",
    "* Must consist of letters, numbers and numberscores\n",
    "\n",
    "* Case sensitive"
   ]
  },
  {
   "cell_type": "markdown",
   "id": "established-association",
   "metadata": {},
   "source": [
    "##### Assigment Statements\n",
    "\n",
    "We assign a value to a variable using the assignment statement (=)\n",
    "\n",
    "An assignment statement consists of an expression on the right-hand side and a variable to store the result"
   ]
  },
  {
   "cell_type": "code",
   "execution_count": 8,
   "id": "settled-celtic",
   "metadata": {},
   "outputs": [],
   "source": [
    "# The right side is an expression.\n",
    "# Once the expression is evaluated,\n",
    "# the result is placed in the variable on the left side\n",
    "\n",
    "x = 1\n",
    "x = 2.5 * x * (1 - x)"
   ]
  },
  {
   "cell_type": "markdown",
   "id": "digital-layout",
   "metadata": {},
   "source": [
    "Expressions Part 2"
   ]
  },
  {
   "cell_type": "raw",
   "id": "canadian-worse",
   "metadata": {},
   "source": [
    "Numeric Expressions\n",
    "\n",
    "+  Addition\n",
    "-  Subtraction\n",
    "*  Multiplication\n",
    "÷  Division\n",
    "** Power\n",
    "%  Remainder"
   ]
  },
  {
   "cell_type": "markdown",
   "id": "primary-assignment",
   "metadata": {},
   "source": [
    "##### Order of Evaluation\n",
    "\n",
    "Python must know which operator do first, this is called\n",
    "'operator precedence'\n",
    "\n",
    "##### Operator precedence\n",
    "\n",
    "Highest precedence rule to lowest precedence rule:\n",
    "\n",
    "- Parentheses are always respected\n",
    "- Exponentiation\n",
    "- Multiplication, Division and Remainder\n",
    "- Addition and Substraction\n",
    "- Left to Right"
   ]
  }
 ],
 "metadata": {
  "kernelspec": {
   "display_name": "Python 3",
   "language": "python",
   "name": "python3"
  },
  "language_info": {
   "codemirror_mode": {
    "name": "ipython",
    "version": 3
   },
   "file_extension": ".py",
   "mimetype": "text/x-python",
   "name": "python",
   "nbconvert_exporter": "python",
   "pygments_lexer": "ipython3",
   "version": "3.8.5"
  }
 },
 "nbformat": 4,
 "nbformat_minor": 5
}
