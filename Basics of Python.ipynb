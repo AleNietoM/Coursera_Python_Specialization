{
 "cells": [
  {
   "cell_type": "markdown",
   "id": "reserved-cancer",
   "metadata": {},
   "source": [
    "### Alejandra Nieto - Python Specialization - Coursera"
   ]
  },
  {
   "cell_type": "markdown",
   "id": "included-newport",
   "metadata": {},
   "source": [
    "#### Programming for everybody (Getting started)"
   ]
  },
  {
   "cell_type": "code",
   "execution_count": 6,
   "id": "lasting-blanket",
   "metadata": {},
   "outputs": [
    {
     "name": "stdout",
     "output_type": "stream",
     "text": [
      "Hello World\n",
      "Hello World\n"
     ]
    }
   ],
   "source": [
    "print('Hello World')\n",
    "print(\"Hello World\")"
   ]
  },
  {
   "cell_type": "code",
   "execution_count": 3,
   "id": "congressional-villa",
   "metadata": {},
   "outputs": [
    {
     "name": "stdin",
     "output_type": "stream",
     "text": [
      "What is your name? Ale\n"
     ]
    },
    {
     "data": {
      "text/plain": [
       "'Ale'"
      ]
     },
     "execution_count": 3,
     "metadata": {},
     "output_type": "execute_result"
    }
   ],
   "source": [
    "input('What is your name?')"
   ]
  },
  {
   "cell_type": "markdown",
   "id": "faced-croatia",
   "metadata": {},
   "source": [
    "Expressions"
   ]
  },
  {
   "cell_type": "raw",
   "id": "unsigned-cosmetic",
   "metadata": {},
   "source": [
    "Reserved words\n",
    "can not be used as variable or identifiers\n",
    "\n",
    "False    class    return   is       finally\n",
    "None     if       for      lambda   continue\n",
    "True     def      from     while    nonlocal\n",
    "and      del      global   not      with\n",
    "as       elif     try      or       yield\n",
    "assert   else     import   pass\n",
    "break    except   in       raise"
   ]
  },
  {
   "cell_type": "markdown",
   "id": "positive-limitation",
   "metadata": {},
   "source": [
    "##### Constants\n",
    "\n",
    "* Fixed values such as numbers, letters, and strings are called 'constant' because their value doesn't change\n",
    "\n",
    "* Numeric constant are as you expect\n",
    "\n",
    "* String constants use single quotes (') or double quotes (\"). As shown in the first cell of the script"
   ]
  },
  {
   "cell_type": "markdown",
   "id": "processed-filing",
   "metadata": {},
   "source": [
    "##### Variables\n",
    "\n",
    "* A variable is a named place in the memory where a programmer can store data and later retrieve the data using the variable \"name\"\n",
    "\n",
    "* Programmers get to choose the names of the variables\n",
    "\n",
    "* You can change the contents of a variable in a later statement\n",
    "\n",
    "\n",
    "##### Python Variable Name Rules\n",
    "\n",
    "* Must start with a letter or underscore (_)\n",
    "\n",
    "* Must consist of letters, numbers and numberscores\n",
    "\n",
    "* Case sensitive"
   ]
  },
  {
   "cell_type": "code",
   "execution_count": 9,
   "id": "black-organic",
   "metadata": {},
   "outputs": [],
   "source": [
    "# Variables\n",
    "\n",
    "message = 'And now for something completely different'\n",
    "n = 17\n",
    "pi = 3.1415926535897931"
   ]
  },
  {
   "cell_type": "markdown",
   "id": "lasting-fifty",
   "metadata": {},
   "source": [
    "##### Assigment Statements\n",
    "\n",
    "*An assignment statement consists of an expression on the right-hand side and a variable to store the result*\n",
    "\n",
    "We assign a value to a variable using the assignment statement (=)"
   ]
  },
  {
   "cell_type": "code",
   "execution_count": 8,
   "id": "flying-oregon",
   "metadata": {},
   "outputs": [],
   "source": [
    "# The right side is an expression.\n",
    "# Once the expression is evaluated,\n",
    "# the result is placed in the variable on the left side\n",
    "\n",
    "x = 1\n",
    "x = 2.5 * x * (1 - x)"
   ]
  },
  {
   "cell_type": "raw",
   "id": "palestinian-madagascar",
   "metadata": {},
   "source": [
    "Numeric Expressions | Operators\n",
    "\n",
    "+  Addition\n",
    "-  Subtraction\n",
    "*  Multiplication\n",
    "÷  Division\n",
    "** Power\n",
    "%  Remainder"
   ]
  },
  {
   "cell_type": "markdown",
   "id": "possible-permit",
   "metadata": {},
   "source": [
    "##### Order of Evaluation\n",
    "\n",
    "Python must know which operator do first, this is called\n",
    "'operator precedence'\n",
    "\n",
    "##### Operator precedence\n",
    "\n",
    "Highest precedence rule to lowest precedence rule:\n",
    "\n",
    "- Parentheses are always respected\n",
    "- Exponentiation\n",
    "- Multiplication, Division and Remainder\n",
    "- Addition and Substraction\n",
    "- Left to Right"
   ]
  },
  {
   "cell_type": "markdown",
   "id": "optimum-shipping",
   "metadata": {},
   "source": [
    "##### Types\n",
    "\n",
    "* str   -> string\n",
    "* int   -> integers\n",
    "* float -> floating point numbers"
   ]
  },
  {
   "cell_type": "markdown",
   "id": "grave-detroit",
   "metadata": {},
   "source": [
    "Converting User Input\n",
    "\n",
    "We want to read a number from the user and must convert it from a string to a number"
   ]
  },
  {
   "cell_type": "code",
   "execution_count": 10,
   "id": "incorrect-pierre",
   "metadata": {},
   "outputs": [
    {
     "name": "stdin",
     "output_type": "stream",
     "text": [
      "Europe floor? 2\n"
     ]
    },
    {
     "name": "stdout",
     "output_type": "stream",
     "text": [
      "US floor 3\n"
     ]
    }
   ],
   "source": [
    "# Convert elevator floors\n",
    "inp = input('Europe floor?')\n",
    "usf = int(inp) + 1\n",
    "print('US floor', usf)"
   ]
  },
  {
   "cell_type": "code",
   "execution_count": 11,
   "id": "relative-stamp",
   "metadata": {},
   "outputs": [
    {
     "name": "stdin",
     "output_type": "stream",
     "text": [
      "US floor? 1\n"
     ]
    },
    {
     "name": "stdout",
     "output_type": "stream",
     "text": [
      "Europe floor 0\n"
     ]
    }
   ],
   "source": [
    "inp = input('US floor?')\n",
    "euf = int(inp) - 1\n",
    "print('Europe floor', euf)"
   ]
  },
  {
   "cell_type": "markdown",
   "id": "private-statistics",
   "metadata": {},
   "source": [
    "Conditional Statements"
   ]
  },
  {
   "cell_type": "markdown",
   "id": "editorial-jumping",
   "metadata": {},
   "source": [
    "##### Boolean expressions\n",
    "\n",
    "*An expression that is either True or False*"
   ]
  },
  {
   "cell_type": "markdown",
   "id": "competitive-cowboy",
   "metadata": {},
   "source": [
    "##### Comparison Operators\n",
    "\n",
    "* Boolean expressions ask a question and produce Yes or No result\n",
    "* Boolean expressions using comparison operator evaluate to True / False / Yes / No\n",
    "* Comparison operator look at variables but do not change variables"
   ]
  },
  {
   "cell_type": "raw",
   "id": "attached-martin",
   "metadata": {},
   "source": [
    "Comparison Operators:\n",
    "\n",
    "==        is equal to\n",
    "!=        is not equal to\n",
    ">         is greater than\n",
    "<         is less than\n",
    ">=        is greater than or equal to\n",
    "<=        is less than or equal to\n",
    "is        is the same as\n",
    "is not    is not the same as"
   ]
  },
  {
   "cell_type": "markdown",
   "id": "commercial-korea",
   "metadata": {},
   "source": [
    "##### Two-way Decisions\n",
    "\n",
    "* Do one thing if a logical expression is True and something else if the expression is False\n",
    "\n",
    "* We must choose one or the other path but not both"
   ]
  },
  {
   "cell_type": "code",
   "execution_count": 2,
   "id": "vocal-density",
   "metadata": {},
   "outputs": [
    {
     "name": "stdout",
     "output_type": "stream",
     "text": [
      "Bigger\n",
      "All done\n"
     ]
    }
   ],
   "source": [
    "# Visualize Blocks\n",
    "\n",
    "x = 4\n",
    "\n",
    "if x > 2 :\n",
    "    print('Bigger')\n",
    "else :\n",
    "    print('Smaller')\n",
    "print('All done')"
   ]
  },
  {
   "cell_type": "code",
   "execution_count": 3,
   "id": "cultural-communications",
   "metadata": {},
   "outputs": [
    {
     "name": "stdout",
     "output_type": "stream",
     "text": [
      "Medium\n",
      "All done\n"
     ]
    }
   ],
   "source": [
    "# Multi-way\n",
    "\n",
    "if x < 2 :\n",
    "    print('small')\n",
    "elif x < 10 :\n",
    "    print('Medium')\n",
    "else :\n",
    "    print('LARGE')\n",
    "print('All done')"
   ]
  },
  {
   "cell_type": "markdown",
   "id": "sorted-philip",
   "metadata": {},
   "source": [
    "##### The try / except structure\n",
    "\n",
    "* You surround a dangerous section of code with try and except\n",
    "\n",
    "* If the code in the try works - the except is skipped\n",
    "\n",
    "* If the code in the try fails - it jumps to the except section"
   ]
  },
  {
   "cell_type": "code",
   "execution_count": 4,
   "id": "superb-homework",
   "metadata": {},
   "outputs": [
    {
     "name": "stdout",
     "output_type": "stream",
     "text": [
      "First -1\n",
      "Second 123\n"
     ]
    }
   ],
   "source": [
    "astr = 'Hello Bob'\n",
    "try:\n",
    "    istr = int(astr)\n",
    "except:\n",
    "    istr = -1\n",
    "    \n",
    "print('First', istr)\n",
    "\n",
    "astr = '123'\n",
    "try:\n",
    "    istr = int(astr)\n",
    "except:\n",
    "    istr = -1\n",
    "    \n",
    "print('Second', istr)"
   ]
  },
  {
   "cell_type": "code",
   "execution_count": 7,
   "id": "handled-religious",
   "metadata": {},
   "outputs": [
    {
     "name": "stdin",
     "output_type": "stream",
     "text": [
      "Enter a number: a\n"
     ]
    },
    {
     "name": "stdout",
     "output_type": "stream",
     "text": [
      "Not a number\n"
     ]
    }
   ],
   "source": [
    "rawstr = input('Enter a number:')\n",
    "try:\n",
    "    ival = int(rawstr)\n",
    "except:\n",
    "    ival = -1\n",
    "\n",
    "if ival > 0 :\n",
    "    print('Nice work')\n",
    "else:\n",
    "    print('Not a number')"
   ]
  },
  {
   "cell_type": "code",
   "execution_count": 14,
   "id": "reliable-sampling",
   "metadata": {},
   "outputs": [
    {
     "data": {
      "text/plain": [
       "-1"
      ]
     },
     "execution_count": 14,
     "metadata": {},
     "output_type": "execute_result"
    }
   ],
   "source": [
    "astr = 'Hello Bob'\n",
    "istr = 0\n",
    "try:\n",
    "    istr = int(astr)\n",
    "except:\n",
    "    istr = -1\n",
    "    \n",
    "istr"
   ]
  },
  {
   "cell_type": "code",
   "execution_count": 52,
   "id": "flying-bread",
   "metadata": {},
   "outputs": [
    {
     "name": "stdin",
     "output_type": "stream",
     "text": [
      "Enter Score: 2\n"
     ]
    },
    {
     "name": "stdout",
     "output_type": "stream",
     "text": [
      "Your score does not match\n"
     ]
    }
   ],
   "source": [
    "score = input('Enter Score:')\n",
    "scr = round(float(score), 2)\n",
    "\n",
    "if (scr < 0.60) & (scr >= 0.00):\n",
    "    print('You got an F')\n",
    "elif (scr < 0.70) & (scr >= 0.60):\n",
    "    print('You got a D')\n",
    "elif (scr < 0.80) & (scr >= 0.70):\n",
    "    print('You got a C')\n",
    "elif (scr < 0.90) & (scr >= 0.80):\n",
    "    print('You got a B')\n",
    "elif (scr <= 1.00) & (scr >= 0.90):\n",
    "    print('You got a A')\n",
    "else:\n",
    "    print('Your score does not match')\n"
   ]
  },
  {
   "cell_type": "markdown",
   "id": "sealed-voltage",
   "metadata": {},
   "source": [
    "##### Functions\n",
    "\n",
    "*A named sequence of statements that performs a computation. We call it reusable pieces of code.*"
   ]
  },
  {
   "cell_type": "raw",
   "id": "competitive-report",
   "metadata": {},
   "source": [
    "Built-in Functions\n",
    "\n",
    "    Type conversions\n",
    "        int()\n",
    "        float()\n",
    "        str()\n",
    "\n",
    "    Math\n",
    "        log10\n",
    "        sin\n",
    "        pi\n",
    "        sqrt"
   ]
  },
  {
   "cell_type": "code",
   "execution_count": 1,
   "id": "chemical-ratio",
   "metadata": {},
   "outputs": [
    {
     "name": "stdout",
     "output_type": "stream",
     "text": [
      "Hello\n",
      "Yo\n",
      "7\n"
     ]
    }
   ],
   "source": [
    "x = 5\n",
    "print('Hello')\n",
    "\n",
    "def print_lyrics():\n",
    "    print(\"I'm a lumberjack, and I'm okay.\")\n",
    "    print('I sleep all night and I work all day')\n",
    "    \n",
    "print('Yo')\n",
    "x = x + 2\n",
    "print(x)"
   ]
  },
  {
   "cell_type": "markdown",
   "id": "subsequent-validation",
   "metadata": {},
   "source": [
    "The 'def' statement did not automatically run the code because we have to call it..."
   ]
  },
  {
   "cell_type": "code",
   "execution_count": 2,
   "id": "binding-bibliography",
   "metadata": {},
   "outputs": [
    {
     "name": "stdout",
     "output_type": "stream",
     "text": [
      "Hello\n",
      "Yo\n",
      "I'm a lumberjack, and I'm okay.\n",
      "I sleep all night and I work all day\n",
      "7\n"
     ]
    }
   ],
   "source": [
    "x = 5\n",
    "print('Hello')\n",
    "\n",
    "def print_lyrics():\n",
    "    print(\"I'm a lumberjack, and I'm okay.\")\n",
    "    print('I sleep all night and I work all day')\n",
    "    \n",
    "print('Yo')\n",
    "print_lyrics()\n",
    "x = x + 2\n",
    "print(x)"
   ]
  },
  {
   "cell_type": "markdown",
   "id": "loved-ballet",
   "metadata": {},
   "source": [
    "##### Arguments\n",
    "\n",
    "*A value we pass into the function as its input when we call the function*\n",
    "* We use arguments so we can direct the function to do different kinds of work when we call ir at different times\n",
    "* We put the arguments in parentheses after the name of the function"
   ]
  },
  {
   "cell_type": "markdown",
   "id": "phantom-alexander",
   "metadata": {},
   "source": [
    "##### Parameters\n",
    "\n",
    "*A variable which we use in the function definition. It is a 'handle' that allows the code in the function to access the arguments for a particular function invocation*"
   ]
  },
  {
   "cell_type": "markdown",
   "id": "immune-specialist",
   "metadata": {},
   "source": [
    "##### Return Values\n",
    "\n",
    "Often a function will take its arguments, do some computation, and return a value to be used as the value of the function call in the calling expression. The return keyword is used for this."
   ]
  },
  {
   "cell_type": "code",
   "execution_count": 3,
   "id": "global-import",
   "metadata": {},
   "outputs": [
    {
     "name": "stdout",
     "output_type": "stream",
     "text": [
      "Hello Glenn\n",
      "Hello Sally\n"
     ]
    }
   ],
   "source": [
    "def greet():\n",
    "    return \"Hello\"\n",
    "\n",
    "print(greet(), \"Glenn\")\n",
    "print(greet(), \"Sally\")"
   ]
  },
  {
   "cell_type": "markdown",
   "id": "global-aging",
   "metadata": {},
   "source": [
    "* A 'fruitful' function is one that produces a result (or return value)\n",
    "* The return statement ends the function execution and 'sends back' the result of the function"
   ]
  },
  {
   "cell_type": "markdown",
   "id": "substantial-remove",
   "metadata": {},
   "source": [
    "##### Multiple Parameters / Arguments\n",
    "\n",
    "* We can define more than one parameter in the function definition\n",
    "* We simply add more arguments when we call the function\n",
    "* We match the number and order of arguments and parameters"
   ]
  },
  {
   "cell_type": "code",
   "execution_count": 6,
   "id": "productive-equipment",
   "metadata": {},
   "outputs": [
    {
     "name": "stdout",
     "output_type": "stream",
     "text": [
      "8\n"
     ]
    }
   ],
   "source": [
    "def addtwo(a, b):\n",
    "    added = a + b\n",
    "    return added\n",
    "\n",
    "x = addtwo(3, 5)\n",
    "print(x)"
   ]
  },
  {
   "cell_type": "code",
   "execution_count": null,
   "id": "nasty-princeton",
   "metadata": {},
   "outputs": [],
   "source": []
  },
  {
   "cell_type": "code",
   "execution_count": null,
   "id": "shared-universe",
   "metadata": {},
   "outputs": [],
   "source": []
  },
  {
   "cell_type": "code",
   "execution_count": null,
   "id": "duplicate-warren",
   "metadata": {},
   "outputs": [],
   "source": []
  },
  {
   "cell_type": "code",
   "execution_count": null,
   "id": "shaped-sunglasses",
   "metadata": {},
   "outputs": [],
   "source": []
  },
  {
   "cell_type": "code",
   "execution_count": null,
   "id": "animated-birthday",
   "metadata": {
    "slideshow": {
     "slide_type": "fragment"
    }
   },
   "outputs": [],
   "source": []
  }
 ],
 "metadata": {
  "kernelspec": {
   "display_name": "Python 3",
   "language": "python",
   "name": "python3"
  },
  "language_info": {
   "codemirror_mode": {
    "name": "ipython",
    "version": 3
   },
   "file_extension": ".py",
   "mimetype": "text/x-python",
   "name": "python",
   "nbconvert_exporter": "python",
   "pygments_lexer": "ipython3",
   "version": "3.8.5"
  }
 },
 "nbformat": 4,
 "nbformat_minor": 5
}
