{
 "cells": [
  {
   "cell_type": "markdown",
   "id": "flexible-purpose",
   "metadata": {},
   "source": [
    "### Alejandra Nieto - Python Specialization - Coursera"
   ]
  },
  {
   "cell_type": "markdown",
   "id": "standard-possibility",
   "metadata": {},
   "source": [
    "#### Programming for everybody (Getting started)"
   ]
  },
  {
   "cell_type": "code",
   "execution_count": 6,
   "id": "dependent-moment",
   "metadata": {},
   "outputs": [
    {
     "name": "stdout",
     "output_type": "stream",
     "text": [
      "Hello World\n",
      "Hello World\n"
     ]
    }
   ],
   "source": [
    "print('Hello World')\n",
    "print(\"Hello World\")"
   ]
  },
  {
   "cell_type": "code",
   "execution_count": 3,
   "id": "requested-printer",
   "metadata": {},
   "outputs": [
    {
     "name": "stdin",
     "output_type": "stream",
     "text": [
      "What is your name? Ale\n"
     ]
    },
    {
     "data": {
      "text/plain": [
       "'Ale'"
      ]
     },
     "execution_count": 3,
     "metadata": {},
     "output_type": "execute_result"
    }
   ],
   "source": [
    "input('What is your name?')"
   ]
  },
  {
   "cell_type": "markdown",
   "id": "opened-mumbai",
   "metadata": {},
   "source": [
    "Expressions"
   ]
  },
  {
   "cell_type": "raw",
   "id": "meaning-bahamas",
   "metadata": {},
   "source": [
    "Reserved words\n",
    "can not be used as variable or identifiers\n",
    "\n",
    "False    class    return   is       finally\n",
    "None     if       for      lambda   continue\n",
    "True     def      from     while    nonlocal\n",
    "and      del      global   not      with\n",
    "as       elif     try      or       yield\n",
    "assert   else     import   pass\n",
    "break    except   in       raise"
   ]
  },
  {
   "cell_type": "markdown",
   "id": "useful-driving",
   "metadata": {},
   "source": [
    "##### Constants\n",
    "\n",
    "* Fixed values such as numbers, letters, and strings are called 'constant' because their value doesn't change\n",
    "\n",
    "* Numeric constant are as you expect\n",
    "\n",
    "* String constants use single quotes (') or double quotes (\"). As shown in the first cell of the script"
   ]
  },
  {
   "cell_type": "markdown",
   "id": "indoor-county",
   "metadata": {},
   "source": [
    "##### Variables\n",
    "\n",
    "* A variable is a named place in the memory where a programmer can store data and later retrieve the data using the variable \"name\"\n",
    "\n",
    "* Programmers get to choose the names of the variables\n",
    "\n",
    "* You can change the contents of a variable in a later statement\n",
    "\n",
    "\n",
    "##### Python Variable Name Rules\n",
    "\n",
    "* Must start with a letter or underscore (_)\n",
    "\n",
    "* Must consist of letters, numbers and numberscores\n",
    "\n",
    "* Case sensitive"
   ]
  },
  {
   "cell_type": "code",
   "execution_count": 9,
   "id": "positive-fortune",
   "metadata": {},
   "outputs": [],
   "source": [
    "# Variables\n",
    "\n",
    "message = 'And now for something completely different'\n",
    "n = 17\n",
    "pi = 3.1415926535897931"
   ]
  },
  {
   "cell_type": "markdown",
   "id": "municipal-settle",
   "metadata": {},
   "source": [
    "##### Assigment Statements\n",
    "\n",
    "*An assignment statement consists of an expression on the right-hand side and a variable to store the result*\n",
    "\n",
    "We assign a value to a variable using the assignment statement (=)"
   ]
  },
  {
   "cell_type": "code",
   "execution_count": 8,
   "id": "identified-effort",
   "metadata": {},
   "outputs": [],
   "source": [
    "# The right side is an expression.\n",
    "# Once the expression is evaluated,\n",
    "# the result is placed in the variable on the left side\n",
    "\n",
    "x = 1\n",
    "x = 2.5 * x * (1 - x)"
   ]
  },
  {
   "cell_type": "raw",
   "id": "printable-stockholm",
   "metadata": {},
   "source": [
    "Numeric Expressions | Operators\n",
    "\n",
    "+  Addition\n",
    "-  Subtraction\n",
    "*  Multiplication\n",
    "÷  Division\n",
    "** Power\n",
    "%  Remainder"
   ]
  },
  {
   "cell_type": "markdown",
   "id": "wireless-prize",
   "metadata": {},
   "source": [
    "##### Order of Evaluation\n",
    "\n",
    "Python must know which operator do first, this is called\n",
    "'operator precedence'\n",
    "\n",
    "##### Operator precedence\n",
    "\n",
    "Highest precedence rule to lowest precedence rule:\n",
    "\n",
    "- Parentheses are always respected\n",
    "- Exponentiation\n",
    "- Multiplication, Division and Remainder\n",
    "- Addition and Substraction\n",
    "- Left to Right"
   ]
  },
  {
   "cell_type": "markdown",
   "id": "freelance-metadata",
   "metadata": {},
   "source": [
    "##### Types\n",
    "\n",
    "* str   -> string\n",
    "* int   -> integers\n",
    "* float -> floating point numbers"
   ]
  },
  {
   "cell_type": "markdown",
   "id": "assisted-indonesia",
   "metadata": {},
   "source": [
    "Converting User Input\n",
    "\n",
    "We want to read a number from the user and must convert it from a string to a number"
   ]
  },
  {
   "cell_type": "code",
   "execution_count": 10,
   "id": "square-reynolds",
   "metadata": {},
   "outputs": [
    {
     "name": "stdin",
     "output_type": "stream",
     "text": [
      "Europe floor? 2\n"
     ]
    },
    {
     "name": "stdout",
     "output_type": "stream",
     "text": [
      "US floor 3\n"
     ]
    }
   ],
   "source": [
    "# Convert elevator floors\n",
    "inp = input('Europe floor?')\n",
    "usf = int(inp) + 1\n",
    "print('US floor', usf)"
   ]
  },
  {
   "cell_type": "code",
   "execution_count": 11,
   "id": "vital-disaster",
   "metadata": {},
   "outputs": [
    {
     "name": "stdin",
     "output_type": "stream",
     "text": [
      "US floor? 1\n"
     ]
    },
    {
     "name": "stdout",
     "output_type": "stream",
     "text": [
      "Europe floor 0\n"
     ]
    }
   ],
   "source": [
    "inp = input('US floor?')\n",
    "euf = int(inp) - 1\n",
    "print('Europe floor', euf)"
   ]
  },
  {
   "cell_type": "markdown",
   "id": "artificial-massachusetts",
   "metadata": {},
   "source": [
    "Conditional Statements"
   ]
  },
  {
   "cell_type": "markdown",
   "id": "commercial-recommendation",
   "metadata": {},
   "source": [
    "##### Boolean expressions\n",
    "\n",
    "*An expression that is either True or False*"
   ]
  },
  {
   "cell_type": "markdown",
   "id": "supposed-component",
   "metadata": {},
   "source": [
    "##### Comparison Operators\n",
    "\n",
    "* Boolean expressions ask a question and produce Yes or No result\n",
    "* Boolean expressions using comparison operator evaluate to True / False / Yes / No\n",
    "* Comparison operator look at variables but do not change variables"
   ]
  },
  {
   "cell_type": "raw",
   "id": "chief-concept",
   "metadata": {},
   "source": [
    "Comparison Operators:\n",
    "\n",
    "==        is equal to\n",
    "!=        is not equal to\n",
    ">         is greater than\n",
    "<         is less than\n",
    ">=        is greater than or equal to\n",
    "<=        is less than or equal to\n",
    "is        is the same as\n",
    "is not    is not the same as"
   ]
  },
  {
   "cell_type": "markdown",
   "id": "medium-clarity",
   "metadata": {},
   "source": [
    "##### Two-way Decisions\n",
    "\n",
    "* Do one thing if a logical expression is True and something else if the expression is False\n",
    "\n",
    "* We must choose one or the other path but not both"
   ]
  },
  {
   "cell_type": "code",
   "execution_count": 2,
   "id": "blind-senegal",
   "metadata": {},
   "outputs": [
    {
     "name": "stdout",
     "output_type": "stream",
     "text": [
      "Bigger\n",
      "All done\n"
     ]
    }
   ],
   "source": [
    "# Visualize Blocks\n",
    "\n",
    "x = 4\n",
    "\n",
    "if x > 2 :\n",
    "    print('Bigger')\n",
    "else :\n",
    "    print('Smaller')\n",
    "print('All done')"
   ]
  },
  {
   "cell_type": "code",
   "execution_count": 3,
   "id": "measured-license",
   "metadata": {},
   "outputs": [
    {
     "name": "stdout",
     "output_type": "stream",
     "text": [
      "Medium\n",
      "All done\n"
     ]
    }
   ],
   "source": [
    "# Multi-way\n",
    "\n",
    "if x < 2 :\n",
    "    print('small')\n",
    "elif x < 10 :\n",
    "    print('Medium')\n",
    "else :\n",
    "    print('LARGE')\n",
    "print('All done')"
   ]
  },
  {
   "cell_type": "markdown",
   "id": "hispanic-andrew",
   "metadata": {},
   "source": [
    "##### The try / except structure\n",
    "\n",
    "* You surround a dangerous section of code with try and except\n",
    "\n",
    "* If the code in the try works - the except is skipped\n",
    "\n",
    "* If the code in the try fails - it jumps to the except section"
   ]
  },
  {
   "cell_type": "code",
   "execution_count": 4,
   "id": "sudden-classroom",
   "metadata": {},
   "outputs": [
    {
     "name": "stdout",
     "output_type": "stream",
     "text": [
      "First -1\n",
      "Second 123\n"
     ]
    }
   ],
   "source": [
    "astr = 'Hello Bob'\n",
    "try:\n",
    "    istr = int(astr)\n",
    "except:\n",
    "    istr = -1\n",
    "    \n",
    "print('First', istr)\n",
    "\n",
    "astr = '123'\n",
    "try:\n",
    "    istr = int(astr)\n",
    "except:\n",
    "    istr = -1\n",
    "    \n",
    "print('Second', istr)"
   ]
  },
  {
   "cell_type": "code",
   "execution_count": 7,
   "id": "exciting-parking",
   "metadata": {},
   "outputs": [
    {
     "name": "stdin",
     "output_type": "stream",
     "text": [
      "Enter a number: a\n"
     ]
    },
    {
     "name": "stdout",
     "output_type": "stream",
     "text": [
      "Not a number\n"
     ]
    }
   ],
   "source": [
    "rawstr = input('Enter a number:')\n",
    "try:\n",
    "    ival = int(rawstr)\n",
    "except:\n",
    "    ival = -1\n",
    "\n",
    "if ival > 0 :\n",
    "    print('Nice work')\n",
    "else:\n",
    "    print('Not a number')"
   ]
  },
  {
   "cell_type": "code",
   "execution_count": 14,
   "id": "detailed-conclusion",
   "metadata": {},
   "outputs": [
    {
     "data": {
      "text/plain": [
       "-1"
      ]
     },
     "execution_count": 14,
     "metadata": {},
     "output_type": "execute_result"
    }
   ],
   "source": [
    "astr = 'Hello Bob'\n",
    "istr = 0\n",
    "try:\n",
    "    istr = int(astr)\n",
    "except:\n",
    "    istr = -1\n",
    "    \n",
    "istr"
   ]
  },
  {
   "cell_type": "code",
   "execution_count": 52,
   "id": "another-shoot",
   "metadata": {},
   "outputs": [
    {
     "name": "stdin",
     "output_type": "stream",
     "text": [
      "Enter Score: 2\n"
     ]
    },
    {
     "name": "stdout",
     "output_type": "stream",
     "text": [
      "Your score does not match\n"
     ]
    }
   ],
   "source": [
    "score = input('Enter Score:')\n",
    "scr = round(float(score), 2)\n",
    "\n",
    "if (scr < 0.60) & (scr >= 0.00):\n",
    "    print('You got an F')\n",
    "elif (scr < 0.70) & (scr >= 0.60):\n",
    "    print('You got a D')\n",
    "elif (scr < 0.80) & (scr >= 0.70):\n",
    "    print('You got a C')\n",
    "elif (scr < 0.90) & (scr >= 0.80):\n",
    "    print('You got a B')\n",
    "elif (scr <= 1.00) & (scr >= 0.90):\n",
    "    print('You got a A')\n",
    "else:\n",
    "    print('Your score does not match')\n"
   ]
  },
  {
   "cell_type": "markdown",
   "id": "experimental-contemporary",
   "metadata": {},
   "source": [
    "##### Functions\n",
    "\n",
    "*A named sequence of statements that performs a computation. We call it reusable pieces of code.*"
   ]
  },
  {
   "cell_type": "raw",
   "id": "verbal-finger",
   "metadata": {},
   "source": [
    "Built-in Functions\n",
    "\n",
    "    Type conversions\n",
    "        int()\n",
    "        float()\n",
    "        str()\n",
    "\n",
    "    Math\n",
    "        log10\n",
    "        sin\n",
    "        pi\n",
    "        sqrt"
   ]
  },
  {
   "cell_type": "code",
   "execution_count": 1,
   "id": "complex-prophet",
   "metadata": {},
   "outputs": [
    {
     "name": "stdout",
     "output_type": "stream",
     "text": [
      "Hello\n",
      "Yo\n",
      "7\n"
     ]
    }
   ],
   "source": [
    "x = 5\n",
    "print('Hello')\n",
    "\n",
    "def print_lyrics():\n",
    "    print(\"I'm a lumberjack, and I'm okay.\")\n",
    "    print('I sleep all night and I work all day')\n",
    "    \n",
    "print('Yo')\n",
    "x = x + 2\n",
    "print(x)"
   ]
  },
  {
   "cell_type": "markdown",
   "id": "separate-pilot",
   "metadata": {},
   "source": [
    "The 'def' statement did not automatically run the code because we have to call it..."
   ]
  },
  {
   "cell_type": "code",
   "execution_count": 2,
   "id": "injured-listing",
   "metadata": {},
   "outputs": [
    {
     "name": "stdout",
     "output_type": "stream",
     "text": [
      "Hello\n",
      "Yo\n",
      "I'm a lumberjack, and I'm okay.\n",
      "I sleep all night and I work all day\n",
      "7\n"
     ]
    }
   ],
   "source": [
    "x = 5\n",
    "print('Hello')\n",
    "\n",
    "def print_lyrics():\n",
    "    print(\"I'm a lumberjack, and I'm okay.\")\n",
    "    print('I sleep all night and I work all day')\n",
    "    \n",
    "print('Yo')\n",
    "print_lyrics()\n",
    "x = x + 2\n",
    "print(x)"
   ]
  },
  {
   "cell_type": "markdown",
   "id": "tribal-given",
   "metadata": {},
   "source": [
    "##### Arguments\n",
    "\n",
    "*A value we pass into the function as its input when we call the function*\n",
    "* We use arguments so we can direct the function to do different kinds of work when we call ir at different times\n",
    "* We put the arguments in parentheses after the name of the function"
   ]
  },
  {
   "cell_type": "markdown",
   "id": "angry-consensus",
   "metadata": {},
   "source": [
    "##### Parameters\n",
    "\n",
    "*A variable which we use in the function definition. It is a 'handle' that allows the code in the function to access the arguments for a particular function invocation*"
   ]
  },
  {
   "cell_type": "markdown",
   "id": "pointed-closer",
   "metadata": {},
   "source": [
    "##### Return Values\n",
    "\n",
    "Often a function will take its arguments, do some computation, and return a value to be used as the value of the function call in the calling expression. The return keyword is used for this."
   ]
  },
  {
   "cell_type": "code",
   "execution_count": 3,
   "id": "incorporate-accordance",
   "metadata": {},
   "outputs": [
    {
     "name": "stdout",
     "output_type": "stream",
     "text": [
      "Hello Glenn\n",
      "Hello Sally\n"
     ]
    }
   ],
   "source": [
    "def greet():\n",
    "    return \"Hello\"\n",
    "\n",
    "print(greet(), \"Glenn\")\n",
    "print(greet(), \"Sally\")"
   ]
  },
  {
   "cell_type": "markdown",
   "id": "fantastic-majority",
   "metadata": {},
   "source": [
    "* A 'fruitful' function is one that produces a result (or return value)\n",
    "* The return statement ends the function execution and 'sends back' the result of the function"
   ]
  },
  {
   "cell_type": "code",
   "execution_count": 15,
   "id": "extreme-bumper",
   "metadata": {},
   "outputs": [
    {
     "name": "stdout",
     "output_type": "stream",
     "text": [
      "Hello Glenn\n",
      "Hola Sally\n",
      "Bonjour Michael\n"
     ]
    }
   ],
   "source": [
    "def greet(lang):\n",
    "    if lang == 'es':\n",
    "        return 'Hola'\n",
    "    elif lang == 'en':\n",
    "        return 'Hello'\n",
    "    else:\n",
    "        return 'Bonjour'\n",
    "\n",
    "print(greet('en'), 'Glenn')\n",
    "print(greet('es'), 'Sally')\n",
    "print(greet('fr'), 'Michael')"
   ]
  },
  {
   "cell_type": "markdown",
   "id": "controversial-dispatch",
   "metadata": {},
   "source": [
    "##### Multiple Parameters / Arguments\n",
    "\n",
    "* We can define more than one parameter in the function definition\n",
    "* We simply add more arguments when we call the function\n",
    "* We match the number and order of arguments and parameters"
   ]
  },
  {
   "cell_type": "code",
   "execution_count": 6,
   "id": "distant-artwork",
   "metadata": {},
   "outputs": [
    {
     "name": "stdout",
     "output_type": "stream",
     "text": [
      "8\n"
     ]
    }
   ],
   "source": [
    "def addtwo(a, b):\n",
    "    added = a + b\n",
    "    return added\n",
    "\n",
    "x = addtwo(3, 5)\n",
    "print(x)"
   ]
  },
  {
   "cell_type": "markdown",
   "id": "nearby-contribution",
   "metadata": {},
   "source": [
    "##### Loops an Iteration"
   ]
  },
  {
   "cell_type": "markdown",
   "id": "handmade-belarus",
   "metadata": {},
   "source": [
    "Repeated Steps\n",
    "\n",
    "Loops (repeated steps) have iteration variables that change each time through a loop.  Often these iteration variables go through a sequence of numbers."
   ]
  },
  {
   "cell_type": "code",
   "execution_count": 20,
   "id": "valued-carrier",
   "metadata": {},
   "outputs": [
    {
     "name": "stdout",
     "output_type": "stream",
     "text": [
      "5\n",
      "4\n",
      "3\n",
      "2\n",
      "1\n",
      "Blastoff!\n",
      "0\n"
     ]
    }
   ],
   "source": [
    "n = 5\n",
    "while n > 0:\n",
    "    print(n)\n",
    "    n = n - 1\n",
    "print('Blastoff!')\n",
    "print(n)"
   ]
  },
  {
   "cell_type": "raw",
   "id": "compound-southeast",
   "metadata": {},
   "source": [
    "An Infinite Loop\n",
    "\n",
    "n = 10\n",
    "while True:\n",
    "    print(n, end= ' ')\n",
    "    n = n - 1\n",
    "print('Done!')"
   ]
  },
  {
   "cell_type": "markdown",
   "id": "owned-penny",
   "metadata": {},
   "source": [
    "##### Breaking Out of a Loop\n",
    "\n",
    "* The break statement ends the current loop and jumps to the statement immediately following the loop\n",
    "* It is like a loop test that can happen anywhere in the body of the loop"
   ]
  },
  {
   "cell_type": "code",
   "execution_count": 22,
   "id": "sonic-photograph",
   "metadata": {},
   "outputs": [
    {
     "name": "stdin",
     "output_type": "stream",
     "text": [
      ">  dt\n"
     ]
    },
    {
     "name": "stdout",
     "output_type": "stream",
     "text": [
      "dt\n"
     ]
    },
    {
     "name": "stdin",
     "output_type": "stream",
     "text": [
      ">  f\n"
     ]
    },
    {
     "name": "stdout",
     "output_type": "stream",
     "text": [
      "f\n"
     ]
    },
    {
     "name": "stdin",
     "output_type": "stream",
     "text": [
      ">  done\n"
     ]
    },
    {
     "name": "stdout",
     "output_type": "stream",
     "text": [
      "Done!\n"
     ]
    }
   ],
   "source": [
    "while True:\n",
    "    line = input('> ')\n",
    "    if line == 'done':\n",
    "        break\n",
    "    print(line)\n",
    "print('Done!')"
   ]
  },
  {
   "cell_type": "markdown",
   "id": "endangered-spending",
   "metadata": {},
   "source": [
    "##### Finishing an Iteration with Continue\n",
    "\n",
    "The continue statement ends the current iteration and jumps to the top of the loop and starts the next iteration"
   ]
  },
  {
   "cell_type": "code",
   "execution_count": 46,
   "id": "retained-lottery",
   "metadata": {},
   "outputs": [
    {
     "name": "stdin",
     "output_type": "stream",
     "text": [
      ">  done\n"
     ]
    },
    {
     "name": "stdout",
     "output_type": "stream",
     "text": [
      "Done!\n"
     ]
    }
   ],
   "source": [
    "while True:\n",
    "    line = input('> ')\n",
    "    if line[0] == '#':\n",
    "        continue\n",
    "    if line == 'done':\n",
    "        break\n",
    "    print(line)\n",
    "print('Done!')"
   ]
  },
  {
   "cell_type": "markdown",
   "id": "sweet-glucose",
   "metadata": {},
   "source": [
    "##### Definite Loops"
   ]
  },
  {
   "cell_type": "code",
   "execution_count": 25,
   "id": "enhanced-munich",
   "metadata": {},
   "outputs": [
    {
     "name": "stdout",
     "output_type": "stream",
     "text": [
      "5\n",
      "4\n",
      "3\n",
      "2\n",
      "1\n",
      "Blastoff!\n"
     ]
    }
   ],
   "source": [
    "#A Simple Definite Loop\n",
    "\n",
    "for i in [5, 4, 3, 2, 1]:\n",
    "    print(i)\n",
    "print('Blastoff!')"
   ]
  },
  {
   "cell_type": "code",
   "execution_count": 26,
   "id": "responsible-liverpool",
   "metadata": {},
   "outputs": [
    {
     "name": "stdout",
     "output_type": "stream",
     "text": [
      "Happy New Year: Joseph\n",
      "Happy New Year: Glenn\n",
      "Happy New Year: Sally\n",
      "Done!\n"
     ]
    }
   ],
   "source": [
    "# A Definite Loop with Strings\n",
    "## python doesn't understand plurals\n",
    "\n",
    "friends = ['Joseph', 'Glenn', 'Sally']\n",
    "for friend in friends:\n",
    "    print('Happy New Year:', friend)\n",
    "print('Done!')"
   ]
  },
  {
   "cell_type": "markdown",
   "id": "expressed-clerk",
   "metadata": {},
   "source": [
    "Looking at *In*\n",
    "\n",
    "* The iteration variable \"iterates through the sequence (ordered set)\n",
    "* The block (body) of code is executed once for each value in the sequence\n",
    "* The iteration variable moves through all the values in the sequence"
   ]
  },
  {
   "cell_type": "code",
   "execution_count": 27,
   "id": "settled-cancellation",
   "metadata": {},
   "outputs": [
    {
     "name": "stdout",
     "output_type": "stream",
     "text": [
      "0\n",
      "1\n",
      "2\n",
      "3\n",
      "4\n"
     ]
    }
   ],
   "source": [
    "for i in [0, 1, 2, 3, 4]:\n",
    "    print(i)"
   ]
  },
  {
   "cell_type": "markdown",
   "id": "sustained-curve",
   "metadata": {},
   "source": [
    "Finding the largest value"
   ]
  },
  {
   "cell_type": "markdown",
   "id": "eligible-cambodia",
   "metadata": {},
   "source": [
    "##### Making a 'smart' Loops\n",
    "\n",
    "The trick is 'knowing' something about the whole loop when you are stuck writing code that only sees one entry at a time:\n",
    "\n",
    "* Set some variables to initial values\n",
    "* Look for something or do something to each entry separately, updating a variable\n",
    "* Look at the variables"
   ]
  },
  {
   "cell_type": "code",
   "execution_count": 29,
   "id": "chinese-envelope",
   "metadata": {},
   "outputs": [
    {
     "name": "stdout",
     "output_type": "stream",
     "text": [
      "Before\n",
      "9\n",
      "41\n",
      "12\n",
      "3\n",
      "74\n",
      "15\n",
      "After\n"
     ]
    }
   ],
   "source": [
    "# Looping Through a Set\n",
    "\n",
    "print('Before')\n",
    "for thing in [9, 41, 12, 3, 74, 15]:\n",
    "    print(thing)\n",
    "print('After')"
   ]
  },
  {
   "cell_type": "code",
   "execution_count": 30,
   "id": "missing-language",
   "metadata": {},
   "outputs": [
    {
     "name": "stdout",
     "output_type": "stream",
     "text": [
      "Before: None\n",
      "Loop 3 3\n",
      "Loop 41 41\n",
      "Loop 12 41\n",
      "Loop 9 41\n",
      "Loop 74 74\n",
      "Loop 15 74\n",
      "Largest: 74\n"
     ]
    }
   ],
   "source": [
    "# What is the largest number?\n",
    "largest = None\n",
    "print('Before:', largest)\n",
    "for itervar in [3, 41, 12, 9, 74, 15]:\n",
    "    if largest is None or itervar > largest:\n",
    "        largest = itervar\n",
    "    print('Loop', itervar, largest)\n",
    "print('Largest:', largest)"
   ]
  },
  {
   "cell_type": "code",
   "execution_count": 31,
   "id": "magnetic-gibson",
   "metadata": {},
   "outputs": [
    {
     "name": "stdout",
     "output_type": "stream",
     "text": [
      "Before -1\n",
      "9 9\n",
      "41 41\n",
      "41 12\n",
      "41 3\n",
      "74 74\n",
      "74 15\n",
      "After 74\n"
     ]
    }
   ],
   "source": [
    "# Finding the Largest Value\n",
    "## We make a variable that contains the largest value we have\n",
    "## seen so far. If the current number we are looking at is larger,\n",
    "## it is the new largest value we have seen so far:\n",
    "\n",
    "largest_so_far = -1\n",
    "print('Before', largest_so_far)\n",
    "for the_num in [9, 41, 12, 3, 74, 15]:\n",
    "    if the_num > largest_so_far:\n",
    "        largest_so_far = the_num\n",
    "    print(largest_so_far, the_num)\n",
    "print('After', largest_so_far)"
   ]
  },
  {
   "cell_type": "markdown",
   "id": "objective-customs",
   "metadata": {},
   "source": [
    "##### Loop Idioms"
   ]
  },
  {
   "cell_type": "markdown",
   "id": "nasty-isaac",
   "metadata": {},
   "source": [
    "##### Counting in a Loop\n",
    "\n",
    "To count how many times we execute a loop, we introduce a counter variable that starts at 0 and we add one to it each time through the loop:"
   ]
  },
  {
   "cell_type": "code",
   "execution_count": 33,
   "id": "imposed-accreditation",
   "metadata": {},
   "outputs": [
    {
     "name": "stdout",
     "output_type": "stream",
     "text": [
      "Before 0\n",
      "1 9\n",
      "2 41\n",
      "3 12\n",
      "4 3\n",
      "5 74\n",
      "6 15\n",
      "After 6\n"
     ]
    }
   ],
   "source": [
    "zork = 0\n",
    "print('Before', zork)\n",
    "for thing in [9, 41, 12, 3, 74, 15]:\n",
    "    zork = zork + 1\n",
    "    print(zork, thing)\n",
    "print('After', zork)"
   ]
  },
  {
   "cell_type": "markdown",
   "id": "amino-norman",
   "metadata": {},
   "source": [
    "##### Summing in a Loop\n",
    "\n",
    "To add up a value we encounter in a loop, we introduce a sum variable that starts at 0 and we add the value to the sum each time through the loop:"
   ]
  },
  {
   "cell_type": "code",
   "execution_count": 34,
   "id": "broke-worker",
   "metadata": {},
   "outputs": [
    {
     "name": "stdout",
     "output_type": "stream",
     "text": [
      "Before 0\n",
      "9 9\n",
      "50 41\n",
      "62 12\n",
      "65 3\n",
      "139 74\n",
      "154 15\n",
      "After 154\n"
     ]
    }
   ],
   "source": [
    "zork = 0\n",
    "print('Before', zork)\n",
    "for thing in [9, 41, 12, 3, 74, 15]:\n",
    "    zork = zork + thing\n",
    "    print(zork, thing)\n",
    "print('After', zork)"
   ]
  },
  {
   "cell_type": "markdown",
   "id": "fancy-poker",
   "metadata": {},
   "source": [
    "##### Finding the Average in a Loop\n",
    "\n",
    "An average just combines the counting and sum patterns and divides when the loop is done:"
   ]
  },
  {
   "cell_type": "code",
   "execution_count": 37,
   "id": "opening-netscape",
   "metadata": {},
   "outputs": [
    {
     "name": "stdout",
     "output_type": "stream",
     "text": [
      "Before 0 0\n",
      "1 9 9\n",
      "2 50 41\n",
      "3 62 12\n",
      "4 65 3\n",
      "5 139 74\n",
      "6 154 15\n",
      "After 6 154 25.666666666666668\n"
     ]
    }
   ],
   "source": [
    "count = 0\n",
    "sum = 0\n",
    "print('Before', count, sum)\n",
    "for value in [9, 41, 12, 3, 74, 15]:\n",
    "    count = count + 1\n",
    "    sum = sum + value\n",
    "    print(count, sum, value)\n",
    "print('After', count, sum, sum/count)"
   ]
  },
  {
   "cell_type": "markdown",
   "id": "acquired-joshua",
   "metadata": {},
   "source": [
    "##### Filtering in a Loop\n",
    "\n",
    "We use an if statement in the loop to catch / filter the values we are looking for."
   ]
  },
  {
   "cell_type": "code",
   "execution_count": 39,
   "id": "italian-staff",
   "metadata": {},
   "outputs": [
    {
     "name": "stdout",
     "output_type": "stream",
     "text": [
      "Before\n",
      "Large number 41\n",
      "Large number 74\n",
      "After\n"
     ]
    }
   ],
   "source": [
    "print('Before')\n",
    "for value in [9, 41, 12, 3, 74, 15]:\n",
    "    if value > 20:\n",
    "        print('Large number', value)\n",
    "print('After')"
   ]
  },
  {
   "cell_type": "markdown",
   "id": "headed-brick",
   "metadata": {},
   "source": [
    "##### Searching Using a Boolean Variable\n",
    "\n",
    "If we just want to search and know if a value was found, we use a variable that starts at False and is set to True as soon as we find whats we are looking for."
   ]
  },
  {
   "cell_type": "code",
   "execution_count": 40,
   "id": "located-prediction",
   "metadata": {},
   "outputs": [
    {
     "name": "stdout",
     "output_type": "stream",
     "text": [
      "Before False\n",
      "False 9\n",
      "False 41\n",
      "False 12\n",
      "True 3\n",
      "True 74\n",
      "True 15\n",
      "After True\n"
     ]
    }
   ],
   "source": [
    "found = False\n",
    "print('Before', found)\n",
    "for value in [9, 41, 12, 3, 74, 15]:\n",
    "    if value == 3:\n",
    "        found = True\n",
    "    print(found, value)\n",
    "print('After', found)"
   ]
  },
  {
   "cell_type": "code",
   "execution_count": 43,
   "id": "further-instrument",
   "metadata": {},
   "outputs": [
    {
     "name": "stdout",
     "output_type": "stream",
     "text": [
      "Before None\n",
      "9 9\n",
      "9 41\n",
      "9 12\n",
      "3 3\n",
      "3 74\n",
      "3 15\n",
      "After 3\n"
     ]
    }
   ],
   "source": [
    "# How to find the Smallest Value\n",
    "\n",
    "smallest_so_far = None\n",
    "print('Before', smallest_so_far)\n",
    "for the_num in [9, 41, 12, 3, 74, 15]:\n",
    "    if smallest_so_far is None:\n",
    "        smallest_so_far = the_num\n",
    "    elif the_num < smallest_so_far:\n",
    "        smallest_so_far = the_num\n",
    "    print(smallest_so_far, the_num)\n",
    "print('After', smallest_so_far)"
   ]
  },
  {
   "cell_type": "markdown",
   "id": "american-explosion",
   "metadata": {},
   "source": [
    "##### The 'is' and 'is not' Operators\n",
    "\n",
    "* Python has an *is* operator that can be used in logical expressions\n",
    "* Implies 'is the same as'\n",
    "* Similar to, but stronger than '=='\n",
    "* *is not* also is a logical operator"
   ]
  },
  {
   "cell_type": "code",
   "execution_count": 7,
   "id": "based-curve",
   "metadata": {},
   "outputs": [
    {
     "name": "stdin",
     "output_type": "stream",
     "text": [
      "Enter a number: a\n"
     ]
    },
    {
     "name": "stdout",
     "output_type": "stream",
     "text": [
      "Not a number\n"
     ]
    }
   ],
   "source": [
    "rawstr = input('Enter a number:')\n",
    "try:\n",
    "    ival = int(rawstr)\n",
    "except:\n",
    "    ival = -1\n",
    "\n",
    "if ival > 0 :\n",
    "    print('Nice work')\n",
    "else:\n",
    "    print('Not a number')"
   ]
  },
  {
   "cell_type": "raw",
   "id": "happy-picking",
   "metadata": {},
   "source": []
  },
  {
   "cell_type": "code",
   "execution_count": 51,
   "id": "moved-lease",
   "metadata": {},
   "outputs": [
    {
     "name": "stdin",
     "output_type": "stream",
     "text": [
      "numero 5\n"
     ]
    },
    {
     "name": "stdout",
     "output_type": "stream",
     "text": [
      "None\n",
      "5\n"
     ]
    }
   ],
   "source": [
    "largest = None\n",
    "smallest = None\n",
    "\n",
    "num = input('numero')\n",
    "\n",
    "try:\n",
    "    num = int(num)\n",
    "except:\n",
    "    print('Invalid input')\n",
    "    list(largest.append(num))\n",
    "print(largest)\n",
    "print(num)"
   ]
  }
 ],
 "metadata": {
  "kernelspec": {
   "display_name": "Python 3",
   "language": "python",
   "name": "python3"
  },
  "language_info": {
   "codemirror_mode": {
    "name": "ipython",
    "version": 3
   },
   "file_extension": ".py",
   "mimetype": "text/x-python",
   "name": "python",
   "nbconvert_exporter": "python",
   "pygments_lexer": "ipython3",
   "version": "3.8.5"
  }
 },
 "nbformat": 4,
 "nbformat_minor": 5
}
