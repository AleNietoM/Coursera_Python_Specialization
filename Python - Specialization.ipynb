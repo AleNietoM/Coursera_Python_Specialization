{
 "cells": [
  {
   "cell_type": "markdown",
   "id": "lucky-remove",
   "metadata": {},
   "source": [
    "### Alejandra Nieto - Python Specialization - Coursera"
   ]
  },
  {
   "cell_type": "markdown",
   "id": "retired-screen",
   "metadata": {},
   "source": [
    "#### 1. Programming for everybody (Getting started)"
   ]
  },
  {
   "cell_type": "code",
   "execution_count": 1,
   "id": "white-worker",
   "metadata": {},
   "outputs": [
    {
     "name": "stdout",
     "output_type": "stream",
     "text": [
      "Hello World\n"
     ]
    }
   ],
   "source": [
    "print('Hello World')"
   ]
  },
  {
   "cell_type": "code",
   "execution_count": 2,
   "id": "indirect-equivalent",
   "metadata": {},
   "outputs": [
    {
     "name": "stdout",
     "output_type": "stream",
     "text": [
      "Hello World\n"
     ]
    }
   ],
   "source": [
    "print(\"Hello World\")"
   ]
  },
  {
   "cell_type": "code",
   "execution_count": 3,
   "id": "purple-utility",
   "metadata": {},
   "outputs": [
    {
     "name": "stdin",
     "output_type": "stream",
     "text": [
      "What is your name? Ale\n"
     ]
    },
    {
     "data": {
      "text/plain": [
       "'Ale'"
      ]
     },
     "execution_count": 3,
     "metadata": {},
     "output_type": "execute_result"
    }
   ],
   "source": [
    "input('What is your name?')"
   ]
  },
  {
   "cell_type": "markdown",
   "id": "dense-breed",
   "metadata": {},
   "source": [
    "#### 2. Python Data Structures"
   ]
  },
  {
   "cell_type": "code",
   "execution_count": null,
   "id": "valued-perry",
   "metadata": {},
   "outputs": [],
   "source": []
  },
  {
   "cell_type": "markdown",
   "id": "straight-scanning",
   "metadata": {},
   "source": [
    "#### 3. Using Python to Access Web Data"
   ]
  },
  {
   "cell_type": "code",
   "execution_count": null,
   "id": "positive-purchase",
   "metadata": {},
   "outputs": [],
   "source": []
  },
  {
   "cell_type": "markdown",
   "id": "exterior-bangkok",
   "metadata": {},
   "source": [
    "#### 4. Using Databases with Python"
   ]
  },
  {
   "cell_type": "code",
   "execution_count": null,
   "id": "curious-indonesian",
   "metadata": {},
   "outputs": [],
   "source": []
  }
 ],
 "metadata": {
  "kernelspec": {
   "display_name": "Python 3",
   "language": "python",
   "name": "python3"
  },
  "language_info": {
   "codemirror_mode": {
    "name": "ipython",
    "version": 3
   },
   "file_extension": ".py",
   "mimetype": "text/x-python",
   "name": "python",
   "nbconvert_exporter": "python",
   "pygments_lexer": "ipython3",
   "version": "3.8.5"
  }
 },
 "nbformat": 4,
 "nbformat_minor": 5
}
